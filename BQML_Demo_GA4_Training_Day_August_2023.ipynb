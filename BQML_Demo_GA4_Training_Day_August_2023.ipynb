{
  "nbformat": 4,
  "nbformat_minor": 0,
  "metadata": {
    "colab": {
      "provenance": [],
      "toc_visible": true
    },
    "kernelspec": {
      "display_name": "Python 3",
      "name": "python3"
    }
  },
  "cells": [
    {
      "cell_type": "markdown",
      "source": [
        "**DEMO CODE - DO NOT USE IN PRODUCTION**"
      ],
      "metadata": {
        "id": "LTwsfa6ZnJa5"
      }
    },
    {
      "cell_type": "code",
      "source": [
        "###########################################################################\n",
        "#\n",
        "#  Copyright 2023 Google Inc.\n",
        "#\n",
        "#  Licensed under the Apache License, Version 2.0 (the \"License\");\n",
        "#  you may not use this file except in compliance with the License.\n",
        "#  You may obtain a copy of the License at\n",
        "#\n",
        "#      https://www.apache.org/licenses/LICENSE-2.0\n",
        "#\n",
        "#  Unless required by applicable law or agreed to in writing, software\n",
        "#  distributed under the License is distributed on an \"AS IS\" BASIS,\n",
        "#  WITHOUT WARRANTIES OR CONDITIONS OF ANY KIND, either express or implied.\n",
        "#  See the License for the specific language governing permissions and\n",
        "#  limitations under the License.\n",
        "#\n",
        "# This solution, including any related sample code or data, is made available\n",
        "# on an “as is,” “as available,” and “with all faults” basis, solely for\n",
        "# illustrative purposes, and without warranty or representation of any kind.\n",
        "# This solution is experimental, unsupported and provided solely for your\n",
        "# convenience. Your use of it is subject to your agreements with Google, as\n",
        "# applicable, and may constitute a beta feature as defined under those\n",
        "# agreements.  To the extent that you make any data available to Google in\n",
        "# connection with your use of the solution, you represent and warrant that you\n",
        "# have all necessary and appropriate rights, consents and permissions to permit\n",
        "# Google to use and process that data.  By using any portion of this solution,\n",
        "# you acknowledge, assume and accept all risks, known and unknown, associated\n",
        "# with its usage, including with respect to your deployment of any portion of\n",
        "# this solution in your systems, or usage in connection with your business,\n",
        "# if at all.\n",
        "###########################################################################"
      ],
      "metadata": {
        "id": "PhV1ABkYm-YE"
      },
      "execution_count": null,
      "outputs": []
    },
    {
      "cell_type": "markdown",
      "source": [
        "# Demo Setup"
      ],
      "metadata": {
        "id": "iwb9LKmEKNbq"
      }
    },
    {
      "cell_type": "markdown",
      "source": [
        "## Import libraries"
      ],
      "metadata": {
        "id": "09j_nv7aBRG9"
      }
    },
    {
      "cell_type": "code",
      "source": [
        "!pip install -q icecream\n",
        "\n",
        "import pandas as pd\n",
        "from google.colab import auth\n",
        "from google.cloud import bigquery\n",
        "from icecream import ic\n",
        "\n",
        "ic(\"Imports completed\")"
      ],
      "metadata": {
        "id": "tuNREazLBYXA"
      },
      "execution_count": null,
      "outputs": []
    },
    {
      "cell_type": "markdown",
      "metadata": {
        "id": "ch8FoI3YrVzO"
      },
      "source": [
        "## Connect to data source"
      ]
    },
    {
      "cell_type": "code",
      "metadata": {
        "id": "iIOTfVBOm38n"
      },
      "source": [
        "# Load libraries and authenticate colab for BQ\n",
        "\n",
        "auth.authenticate_user()\n",
        "bigquery.USE_LEGACY_SQL = False\n",
        "\n",
        "ic(\"User authenticated\")"
      ],
      "execution_count": null,
      "outputs": []
    },
    {
      "cell_type": "markdown",
      "metadata": {
        "id": "l4pycImup7v4"
      },
      "source": [
        "## Set project parameters"
      ]
    },
    {
      "cell_type": "code",
      "metadata": {
        "id": "EfVvTKUSnB0U"
      },
      "source": [
        "#The identifier of your Google Cloud project\n",
        "project_id = \"db-platform-sol\" #@param\n",
        "\n",
        "# Variable related to your GA dataset and tables\n",
        "ga_project_id = \"bigquery-public-data\" #@param\n",
        "ga_dataset = \"ga4_obfuscated_sample_ecommerce\" #@param\n",
        "ga_data = \"events_*\" #@param\n",
        "\n",
        "\n",
        "\n"
      ],
      "execution_count": null,
      "outputs": []
    },
    {
      "cell_type": "code",
      "source": [
        "\n",
        "client = bigquery.Client(location=\"US\", project=project_id)\n",
        "print(f\"BQ client created using project ID: {client.project}\")"
      ],
      "metadata": {
        "id": "bYdkNn2E8iRG"
      },
      "execution_count": null,
      "outputs": []
    },
    {
      "cell_type": "markdown",
      "source": [
        "# DEMO 1: Automated Query visualization"
      ],
      "metadata": {
        "id": "SMnyL58teesn"
      }
    },
    {
      "cell_type": "code",
      "source": [
        "query = f\"\"\"\n",
        "    SELECT user_pseudo_id,\n",
        "      event_date as first_transaction_date,\n",
        "      ecommerce.purchase_revenue as purchase_rev,\n",
        "      geo.continent as geo,\n",
        "      device.category as device,\n",
        "      device.operating_system as device_os,\n",
        "      traffic_source.medium as source\n",
        "    FROM `{ga_project_id}.{ga_dataset}.{ga_data}`\n",
        "    WHERE ecommerce.purchase_revenue >= 1\n",
        "\"\"\"\n",
        "\n",
        "\n",
        "query_job = client.query(\n",
        "    query,\n",
        "    # Location must match that of the dataset(s) referenced in the query.\n",
        "    location=\"US\",\n",
        ")  # API request - starts the query\n",
        "\n",
        "df = query_job.to_dataframe()\n",
        "df\n",
        "\n"
      ],
      "metadata": {
        "id": "IaIIbPe_8pju"
      },
      "execution_count": null,
      "outputs": []
    },
    {
      "cell_type": "markdown",
      "source": [
        "# DEMO 2: Propensity to buy model"
      ],
      "metadata": {
        "id": "UTIGBpZxJq_6"
      }
    },
    {
      "cell_type": "markdown",
      "source": [
        "## Model training"
      ],
      "metadata": {
        "id": "xKRYgwH88XYv"
      }
    },
    {
      "cell_type": "code",
      "source": [
        "model_dataset = \"GA4_Training_Day\" #@param\n",
        "model_name = \"ga4_purchase_propensity_model_Aug20\" #@param\n",
        "\n",
        "# First-party data used to augment the GA4 data\n",
        "crm_table = \"crm_synthetic_customer_info\" #@param\n",
        "crm_transactions = \"uploaded_synthetic_offline_transactions\" #@param\n",
        "\n",
        "\n"
      ],
      "metadata": {
        "id": "c0iDnFxR-96i"
      },
      "execution_count": null,
      "outputs": []
    },
    {
      "cell_type": "code",
      "source": [
        "training_query = f\"\"\"\n",
        "\n",
        "    #Create GA4 Predictive Model\n",
        "\n",
        "CREATE OR REPLACE MODEL `{project_id}.{model_dataset}.{model_name}`\n",
        "    OPTIONS\n",
        "        (model_type='LOGISTIC_REG',\n",
        "        calculate_p_values=TRUE,\n",
        "        CATEGORY_ENCODING_METHOD='DUMMY_ENCODING',\n",
        "        input_label_cols = ['future_purchase']) AS\n",
        "\n",
        "\n",
        "#Features\n",
        "\n",
        "#CRM Customer Data\n",
        "WITH customer_info AS (\n",
        "SELECT\n",
        "    Customer_Id AS customer_id,\n",
        "    Age AS crm_age,\n",
        "    Super_Saver_Club AS crm_super_saver_club\n",
        "FROM\n",
        "    `{project_id}.{model_dataset}.{crm_table}`\n",
        "),\n",
        "\n",
        "#GA4 User Activity Data\n",
        "historical_site_visits AS (\n",
        "SELECT\n",
        "    user_pseudo_id AS customer_id,\n",
        "    PARSE_DATE('%Y%m%d',event_date) AS event_date,\n",
        "    SUM(CASE WHEN event_name = 'page_view' THEN 1 ELSE 0 END) AS ga_page_view_count,\n",
        "    SUM(CASE WHEN event_name = 'view_item' THEN 1 ELSE 0 END) AS ga_view_item_count,\n",
        "    MAX(CASE WHEN event_name = 'first_visit' THEN 1 ELSE 0 END) AS ga_first_visit_dummy,\n",
        "    MAX(CASE WHEN event_name = 'view_promotion' THEN 1 ELSE 0 END) AS ga_view_promotion_dummy,\n",
        "    MAX(CASE WHEN event_name = 'add_to_cart' THEN 1 ELSE 0 END) AS ga_add_to_cart_dummy,\n",
        "    MAX(CASE WHEN event_name = 'begin_checkout' THEN 1 ELSE 0 END) AS ga_begin_checkout_dummy,\n",
        "    MAX(CASE WHEN event_name IN ('purchase', 'in_app_purchase') THEN 1 ELSE 0 END) AS ga_online_purchase_dummy\n",
        "FROM\n",
        "    `{ga_project_id}.{ga_dataset}.{ga_data}`\n",
        "WHERE\n",
        "    _TABLE_SUFFIX BETWEEN '20201101' AND '20201231'\n",
        "GROUP BY\n",
        "    1,2\n",
        "),\n",
        "\n",
        "#CRM transaction data - target variable to predict\n",
        "purchases AS (\n",
        "(SELECT\n",
        "    user_pseudo_id AS customer_id,\n",
        "    PARSE_DATE('%Y%m%d',event_date) AS transaction_date,\n",
        "    MAX(CASE WHEN event_name IN ('purchase', 'in_app_purchase') THEN 1 ELSE 0 END) AS future_purchase\n",
        "FROM\n",
        "    `{ga_project_id}.{ga_dataset}.{ga_data}`\n",
        "WHERE\n",
        "    _TABLE_SUFFIX BETWEEN '20201101' AND '20210107'\n",
        "GROUP BY\n",
        "    customer_id,\n",
        "    transaction_date\n",
        ")\n",
        "UNION ALL\n",
        "(SELECT\n",
        "    customer_id,\n",
        "    transaction_date,\n",
        "    MAX(CASE WHEN transaction_type = 'purchase' AND offline_revenue > 0 THEN 1 ELSE 0 END) AS future_purchase\n",
        "FROM\n",
        "    `{project_id}.{model_dataset}.{crm_transactions}`\n",
        "WHERE\n",
        "    transaction_date BETWEEN '2020-11-01' AND '2021-01-07'\n",
        "GROUP BY\n",
        "    customer_id,\n",
        "    transaction_date\n",
        ")\n",
        ")\n",
        "\n",
        "#Feature Table\n",
        "SELECT\n",
        "    customer_info.crm_age,\n",
        "    customer_info.crm_super_saver_club,\n",
        "    SUM(COALESCE(historical_site_visits.ga_page_view_count,0)) AS ga_page_view_count,\n",
        "    SUM(COALESCE(historical_site_visits.ga_view_item_count,0)) AS ga_view_item_count,\n",
        "    MIN(COALESCE(historical_site_visits.ga_first_visit_dummy,0)) AS ga_first_visit_dummy,\n",
        "    MAX(COALESCE(historical_site_visits.ga_view_promotion_dummy,0)) AS ga_view_promotion_dummy,\n",
        "    MAX(COALESCE(historical_site_visits.ga_add_to_cart_dummy,0)) AS ga_add_to_cart_dummy,\n",
        "    MAX(COALESCE(historical_site_visits.ga_begin_checkout_dummy,0)) AS ga_begin_checkout_dummy,\n",
        "    MAX(COALESCE(historical_site_visits.ga_online_purchase_dummy,0)) AS ga_online_purchase_dummy,\n",
        "    MAX(COALESCE(purchases.future_purchase,0)) AS future_purchase\n",
        "FROM\n",
        "    customer_info\n",
        "LEFT JOIN\n",
        "    historical_site_visits\n",
        "ON\n",
        "    customer_info.Customer_Id = historical_site_visits.customer_id\n",
        "LEFT JOIN\n",
        "    purchases\n",
        "ON\n",
        "    historical_site_visits.customer_id = purchases.customer_id\n",
        "    AND DATE_DIFF(purchases.transaction_date, historical_site_visits.event_date, DAY) BETWEEN 1 AND 7\n",
        "GROUP BY\n",
        "    customer_info.customer_id,\n",
        "    customer_info.crm_age,\n",
        "    customer_info.crm_super_saver_club\n",
        "\"\"\"\n",
        "\n",
        "ic(\"Training query set. Ready to start training\")"
      ],
      "metadata": {
        "id": "U4esvtQm-w-H"
      },
      "execution_count": null,
      "outputs": []
    },
    {
      "cell_type": "code",
      "source": [
        "training_job = client.query(\n",
        "    training_query,\n",
        "    # Location must match that of the dataset(s) referenced in the query.\n",
        "    location=\"US\",\n",
        ")  # API request - starts the query\n",
        "\n",
        "\n",
        "training_job.result()  # Waits for the query to finish\n",
        "ic(\"Model training completed\")"
      ],
      "metadata": {
        "id": "ud7uxduKDncd"
      },
      "execution_count": null,
      "outputs": []
    },
    {
      "cell_type": "markdown",
      "source": [
        "## Predictions using trained model"
      ],
      "metadata": {
        "id": "YSmGeeqHFuw9"
      }
    },
    {
      "cell_type": "code",
      "source": [
        "model_for_predictions = \"ga4_purchase_propensity_model_Aug20\" #@param"
      ],
      "metadata": {
        "id": "2xE8U2TYF2Bn"
      },
      "execution_count": null,
      "outputs": []
    },
    {
      "cell_type": "code",
      "source": [
        "prediction_query = f\"\"\"\n",
        "\n",
        "\n",
        "#Create sample predictions using model\n",
        "\n",
        "SELECT\n",
        "    customer_id,\n",
        "    predicted_future_purchase_probs.prob,\n",
        "    NTILE(10) OVER(ORDER BY predicted_future_purchase_probs.prob DESC) AS decile,\n",
        "    future_purchase,\n",
        "    channel\n",
        "FROM\n",
        "    ML.PREDICT(MODEL `{project_id}.{model_dataset}.{model_for_predictions}`,\n",
        "(WITH customer_info AS (\n",
        "SELECT\n",
        "    Customer_Id AS customer_id,\n",
        "    Age AS crm_age,\n",
        "    Super_Saver_Club AS crm_super_saver_club\n",
        "FROM\n",
        "    `db-platform-sol.GA4_Training_Day.crm_synthetic_customer_info`\n",
        "),\n",
        "\n",
        "historical_site_visits AS (\n",
        "SELECT\n",
        "    user_pseudo_id AS customer_id,\n",
        "    PARSE_DATE('%Y%m%d',event_date) AS event_date,\n",
        "    SUM(CASE WHEN event_name = 'page_view' THEN 1 ELSE 0 END) AS ga_page_view_count,\n",
        "    SUM(CASE WHEN event_name = 'view_item' THEN 1 ELSE 0 END) AS ga_view_item_count,\n",
        "    MAX(CASE WHEN event_name = 'first_visit' THEN 1 ELSE 0 END) AS ga_first_visit_dummy,\n",
        "    MAX(CASE WHEN event_name = 'view_promotion' THEN 1 ELSE 0 END) AS ga_view_promotion_dummy,\n",
        "    MAX(CASE WHEN event_name = 'add_to_cart' THEN 1 ELSE 0 END) AS ga_add_to_cart_dummy,\n",
        "    MAX(CASE WHEN event_name = 'begin_checkout' THEN 1 ELSE 0 END) AS ga_begin_checkout_dummy,\n",
        "    MAX(CASE WHEN event_name IN ('purchase', 'in_app_purchase') THEN 1 ELSE 0 END) AS ga_online_purchase_dummy\n",
        "FROM\n",
        "    `bigquery-public-data.ga4_obfuscated_sample_ecommerce.events_*`\n",
        "WHERE\n",
        "    _TABLE_SUFFIX BETWEEN '20210108' AND '20210124'\n",
        "GROUP BY\n",
        "    1,2\n",
        "),\n",
        "purchases AS (\n",
        "(SELECT\n",
        "    user_pseudo_id AS customer_id,\n",
        "    PARSE_DATE('%Y%m%d',event_date) AS transaction_date,\n",
        "    MAX(CASE WHEN event_name IN ('purchase', 'in_app_purchase') THEN 1 ELSE 0 END) AS future_purchase,\n",
        "    CASE WHEN event_name IN ('purchase', 'in_app_purchase') THEN 'online' END AS channel\n",
        "FROM\n",
        "    `bigquery-public-data.ga4_obfuscated_sample_ecommerce.events_*`\n",
        "WHERE\n",
        "    _TABLE_SUFFIX BETWEEN '20210108' AND '20210131'\n",
        "GROUP BY\n",
        "    customer_id,\n",
        "    transaction_date,\n",
        "    channel\n",
        ")\n",
        "UNION ALL\n",
        "(SELECT\n",
        "    customer_id,\n",
        "    transaction_date,\n",
        "    MAX(CASE WHEN transaction_type = 'purchase' AND offline_revenue > 0 THEN 1 ELSE 0 END) AS future_purchase,\n",
        "    'in store' AS channel\n",
        "FROM\n",
        "    `db-platform-sol.GA4_Training_Day.uploaded_synthetic_offline_transactions`\n",
        "WHERE\n",
        "    transaction_date BETWEEN '2021-01-08' AND '2021-01-31'\n",
        "GROUP BY\n",
        "    customer_id,\n",
        "    transaction_date\n",
        ")\n",
        ")\n",
        "\n",
        "SELECT\n",
        "    customer_info.customer_id,\n",
        "    customer_info.crm_age,\n",
        "    customer_info.crm_super_saver_club,\n",
        "    SUM(COALESCE(historical_site_visits.ga_page_view_count,0)) AS ga_page_view_count,\n",
        "    SUM(COALESCE(historical_site_visits.ga_view_item_count,0)) AS ga_view_item_count,\n",
        "    MIN(COALESCE(historical_site_visits.ga_first_visit_dummy,0)) AS ga_first_visit_dummy,\n",
        "    MAX(COALESCE(historical_site_visits.ga_view_promotion_dummy,0)) AS ga_view_promotion_dummy,\n",
        "    MAX(COALESCE(historical_site_visits.ga_add_to_cart_dummy,0)) AS ga_add_to_cart_dummy,\n",
        "    MAX(COALESCE(historical_site_visits.ga_begin_checkout_dummy,0)) AS ga_begin_checkout_dummy,\n",
        "    MAX(COALESCE(historical_site_visits.ga_online_purchase_dummy,0)) AS ga_online_purchase_dummy,\n",
        "    MAX(COALESCE(channel,'')) AS channel,\n",
        "    MAX(COALESCE(purchases.future_purchase,0)) AS future_purchase\n",
        "FROM\n",
        "    customer_info\n",
        "LEFT JOIN\n",
        "    historical_site_visits\n",
        "ON\n",
        "    customer_info.Customer_Id = historical_site_visits.customer_id\n",
        "LEFT JOIN\n",
        "    purchases\n",
        "ON\n",
        "    historical_site_visits.customer_id = purchases.customer_id\n",
        "    AND DATE_DIFF(purchases.transaction_date, historical_site_visits.event_date, DAY) BETWEEN 1 AND 7\n",
        "GROUP BY\n",
        "    customer_info.customer_id,\n",
        "    customer_info.crm_age,\n",
        "    customer_info.crm_super_saver_club\n",
        ")\n",
        "),\n",
        "UNNEST(predicted_future_purchase_probs) predicted_future_purchase_probs\n",
        "WHERE\n",
        "    predicted_future_purchase_probs.label = 1\n",
        "\n",
        "\"\"\"\n",
        "\n",
        "ic(\"Prediction query set. Ready to start prediction\")\n",
        "\n"
      ],
      "metadata": {
        "id": "75_c3OWzGCNu"
      },
      "execution_count": null,
      "outputs": []
    },
    {
      "cell_type": "code",
      "source": [
        "prediction_job = client.query(\n",
        "    prediction_query,\n",
        "    # Location must match that of the dataset(s) referenced in the query.\n",
        "    location=\"US\",\n",
        ")  # API request - starts the query\n",
        "\n",
        "df = prediction_job.to_dataframe()\n",
        "df.info()"
      ],
      "metadata": {
        "id": "5cDcliIOIHAD"
      },
      "execution_count": null,
      "outputs": []
    },
    {
      "cell_type": "code",
      "source": [
        "df"
      ],
      "metadata": {
        "id": "L6iaatBaJJ8T"
      },
      "execution_count": null,
      "outputs": []
    },
    {
      "cell_type": "markdown",
      "source": [
        "# DEMO 3: Generative AI with BigQuery"
      ],
      "metadata": {
        "id": "n_JXEwjoNUxg"
      }
    },
    {
      "cell_type": "code",
      "source": [
        "project_id = \"db-platform-sol\" #@param\n",
        "genai_model = \"remote_llm_ga4\" #@param\n"
      ],
      "metadata": {
        "id": "iBC6L0LgR_oK"
      },
      "execution_count": null,
      "outputs": []
    },
    {
      "cell_type": "code",
      "source": [
        "client = bigquery.Client(location=\"US\", project=project_id)"
      ],
      "metadata": {
        "id": "MIy6nO5wkuiX"
      },
      "execution_count": null,
      "outputs": []
    },
    {
      "cell_type": "markdown",
      "source": [
        "## Create LLM remote model"
      ],
      "metadata": {
        "id": "lNFFktvXh0SG"
      }
    },
    {
      "cell_type": "code",
      "source": [
        "# Only run once to create the reference to the remote LLM model\n",
        "\n",
        "query = f\"\"\"\n",
        "  CREATE OR REPLACE MODEL  {model_dataset}.{genai_model}\n",
        "    REMOTE WITH CONNECTION `us.connection-vertex-llm`\n",
        "    OPTIONS (remote_service_type = 'CLOUD_AI_LARGE_LANGUAGE_MODEL_V1')\n",
        "\n",
        "\"\"\"\n",
        "# ic(f\"Ready to connect to GEN AI model\" {genai_model})\n",
        "ic(\" Gen AI model ready to be created\")\n",
        "ic(genai_model)\n"
      ],
      "metadata": {
        "id": "sbSGi7ejSaWa"
      },
      "execution_count": null,
      "outputs": []
    },
    {
      "cell_type": "code",
      "source": [
        "\n",
        "\n",
        "query_job = client.query(\n",
        "    query,\n",
        "    location=\"US\",\n",
        ")  # API request - starts the query\n",
        "\n",
        "\n",
        "query_job.result()  # Waits for the query to finish\n",
        "ic(\"Connection to Google Cloud Generative AI model created\")"
      ],
      "metadata": {
        "id": "dmCRItUYU2M5"
      },
      "execution_count": null,
      "outputs": []
    },
    {
      "cell_type": "markdown",
      "source": [
        "## Gen AI for GA4 promotion campaigns"
      ],
      "metadata": {
        "id": "m3Q-CQFniF1t"
      }
    },
    {
      "cell_type": "code",
      "source": [
        "# Use Generative AI to create a campaign decription based on information stored in BigQuery\n",
        "# The prompt uses GA4 data: items.promotion_name\n",
        "\n",
        "gen_ai_query = f\"\"\"\n",
        "\n",
        "  SELECT *\n",
        "    FROM\n",
        "      ML.GENERATE_TEXT(\n",
        "        MODEL {model_dataset}.{genai_model},\n",
        "        (\n",
        "        SELECT CONCAT('Create a promotion campaign description using the following promotion name: ',promotion_name) AS prompt\n",
        "        FROM GA4_Training_Day.promotion_campaigns\n",
        "        ),\n",
        "        STRUCT(\n",
        "          0.2 AS temperature, 600 AS max_output_tokens, 0.2 AS top_p, 15 AS top_k))\n",
        "\"\"\"\n",
        "\n",
        "\n",
        "ic(\"Generative AI query set. Ready to start generation\")"
      ],
      "metadata": {
        "id": "FgeLm4n5akYh"
      },
      "execution_count": null,
      "outputs": []
    },
    {
      "cell_type": "code",
      "source": [
        "gen_ai_job = client.query(\n",
        "    gen_ai_query,\n",
        "    # Location must match that of the dataset(s) referenced in the query.\n",
        "    location=\"US\",\n",
        ")  # API request - starts the query\n",
        "\n",
        "df = gen_ai_job.to_dataframe()\n",
        "df\n",
        "\n",
        "\n",
        "\n"
      ],
      "metadata": {
        "id": "JS__u4cNUOHn"
      },
      "execution_count": null,
      "outputs": []
    },
    {
      "cell_type": "markdown",
      "source": [
        "## Gen AI for GA4 item names"
      ],
      "metadata": {
        "id": "MTqhT91ehSKH"
      }
    },
    {
      "cell_type": "code",
      "source": [
        "product_table = \"db-platform-sol.GA4_Training_Day.product_names\"\n",
        "\n",
        "\n",
        "\n",
        "temp = 0.2 #@param\n",
        "max_tokens = 650 #@param\n",
        "top_p = 0.2 #@param\n",
        "top_k = 15 #@param\n",
        "\n",
        "# e.g\n",
        "prompt = \"Create a product description for a product based on its name\" #@param"
      ],
      "metadata": {
        "id": "81Y_654piYvX"
      },
      "execution_count": null,
      "outputs": []
    },
    {
      "cell_type": "code",
      "source": [
        "# Use Generative AI to create a campaign decription based on information stored in BigQuery\n",
        "# The prompt uses GA4 data: items.promotion_name\n",
        "\n",
        "gen_ai_query = f\"\"\"\n",
        "\n",
        "  SELECT *\n",
        "    FROM\n",
        "      ML.GENERATE_TEXT(\n",
        "      MODEL {model_dataset}.{genai_model},\n",
        "      (\n",
        "      SELECT CONCAT('{prompt}',' Product name: ', item_name) AS prompt\n",
        "      FROM `{product_table}`\n",
        "      LIMIT 5\n",
        "      ),\n",
        "      STRUCT(\n",
        "        {temp} AS temperature, {max_tokens} AS max_output_tokens, {top_p} AS top_p, {top_k} AS top_k));\n",
        "\n",
        "\"\"\"\n",
        "\n",
        "\n",
        "ic(\"Generative AI query set. Ready to start generation\")"
      ],
      "metadata": {
        "id": "oaKAbNxqiDFs"
      },
      "execution_count": null,
      "outputs": []
    },
    {
      "cell_type": "code",
      "source": [
        "gen_ai_job = client.query(\n",
        "    gen_ai_query,\n",
        "    # Location must match that of the dataset(s) referenced in the query.\n",
        "    location=\"US\",\n",
        ")  # API request - starts the query\n",
        "\n",
        "df = gen_ai_job.to_dataframe()\n",
        "df"
      ],
      "metadata": {
        "id": "bjplQcGCjEwK"
      },
      "execution_count": null,
      "outputs": []
    }
  ]
}